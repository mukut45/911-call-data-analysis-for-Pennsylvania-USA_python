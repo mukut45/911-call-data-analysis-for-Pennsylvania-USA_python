{
 "cells": [
  {
   "cell_type": "markdown",
   "id": "b091f07a-4f86-4b4a-a9f4-1da080d31bab",
   "metadata": {},
   "source": [
    "#### question 1:- Compute - What are the top 10 Zipcodes for 911 and Question 1: Are Zipcodes \n",
    "19446 and 19090 presents?"
   ]
  },
  {
   "cell_type": "code",
   "execution_count": 1,
   "id": "28664313-e191-494c-b635-5cb7dfa7ec32",
   "metadata": {},
   "outputs": [
    {
     "data": {
      "text/html": [
       "<div>\n",
       "<style scoped>\n",
       "    .dataframe tbody tr th:only-of-type {\n",
       "        vertical-align: middle;\n",
       "    }\n",
       "\n",
       "    .dataframe tbody tr th {\n",
       "        vertical-align: top;\n",
       "    }\n",
       "\n",
       "    .dataframe thead th {\n",
       "        text-align: right;\n",
       "    }\n",
       "</style>\n",
       "<table border=\"1\" class=\"dataframe\">\n",
       "  <thead>\n",
       "    <tr style=\"text-align: right;\">\n",
       "      <th></th>\n",
       "      <th>lat</th>\n",
       "      <th>lng</th>\n",
       "      <th>desc</th>\n",
       "      <th>zip</th>\n",
       "      <th>title</th>\n",
       "      <th>timeStamp</th>\n",
       "      <th>twp</th>\n",
       "      <th>addr</th>\n",
       "      <th>e</th>\n",
       "    </tr>\n",
       "  </thead>\n",
       "  <tbody>\n",
       "    <tr>\n",
       "      <th>0</th>\n",
       "      <td>40.297876</td>\n",
       "      <td>-75.581294</td>\n",
       "      <td>REINDEER CT &amp; DEAD END;  NEW HANOVER; Station ...</td>\n",
       "      <td>19525.0</td>\n",
       "      <td>EMS: BACK PAINS/INJURY</td>\n",
       "      <td>2015-12-10 17:10:52</td>\n",
       "      <td>NEW HANOVER</td>\n",
       "      <td>REINDEER CT &amp; DEAD END</td>\n",
       "      <td>1</td>\n",
       "    </tr>\n",
       "    <tr>\n",
       "      <th>1</th>\n",
       "      <td>40.258061</td>\n",
       "      <td>-75.264680</td>\n",
       "      <td>BRIAR PATH &amp; WHITEMARSH LN;  HATFIELD TOWNSHIP...</td>\n",
       "      <td>19446.0</td>\n",
       "      <td>EMS: DIABETIC EMERGENCY</td>\n",
       "      <td>2015-12-10 17:29:21</td>\n",
       "      <td>HATFIELD TOWNSHIP</td>\n",
       "      <td>BRIAR PATH &amp; WHITEMARSH LN</td>\n",
       "      <td>1</td>\n",
       "    </tr>\n",
       "    <tr>\n",
       "      <th>2</th>\n",
       "      <td>40.121182</td>\n",
       "      <td>-75.351975</td>\n",
       "      <td>HAWS AVE; NORRISTOWN; 2015-12-10 @ 14:39:21-St...</td>\n",
       "      <td>19401.0</td>\n",
       "      <td>Fire: GAS-ODOR/LEAK</td>\n",
       "      <td>2015-12-10 14:39:21</td>\n",
       "      <td>NORRISTOWN</td>\n",
       "      <td>HAWS AVE</td>\n",
       "      <td>1</td>\n",
       "    </tr>\n",
       "    <tr>\n",
       "      <th>3</th>\n",
       "      <td>40.116153</td>\n",
       "      <td>-75.343513</td>\n",
       "      <td>AIRY ST &amp; SWEDE ST;  NORRISTOWN; Station 308A;...</td>\n",
       "      <td>19401.0</td>\n",
       "      <td>EMS: CARDIAC EMERGENCY</td>\n",
       "      <td>2015-12-10 16:47:36</td>\n",
       "      <td>NORRISTOWN</td>\n",
       "      <td>AIRY ST &amp; SWEDE ST</td>\n",
       "      <td>1</td>\n",
       "    </tr>\n",
       "    <tr>\n",
       "      <th>4</th>\n",
       "      <td>40.251492</td>\n",
       "      <td>-75.603350</td>\n",
       "      <td>CHERRYWOOD CT &amp; DEAD END;  LOWER POTTSGROVE; S...</td>\n",
       "      <td>NaN</td>\n",
       "      <td>EMS: DIZZINESS</td>\n",
       "      <td>2015-12-10 16:56:52</td>\n",
       "      <td>LOWER POTTSGROVE</td>\n",
       "      <td>CHERRYWOOD CT &amp; DEAD END</td>\n",
       "      <td>1</td>\n",
       "    </tr>\n",
       "  </tbody>\n",
       "</table>\n",
       "</div>"
      ],
      "text/plain": [
       "         lat        lng                                               desc  \\\n",
       "0  40.297876 -75.581294  REINDEER CT & DEAD END;  NEW HANOVER; Station ...   \n",
       "1  40.258061 -75.264680  BRIAR PATH & WHITEMARSH LN;  HATFIELD TOWNSHIP...   \n",
       "2  40.121182 -75.351975  HAWS AVE; NORRISTOWN; 2015-12-10 @ 14:39:21-St...   \n",
       "3  40.116153 -75.343513  AIRY ST & SWEDE ST;  NORRISTOWN; Station 308A;...   \n",
       "4  40.251492 -75.603350  CHERRYWOOD CT & DEAD END;  LOWER POTTSGROVE; S...   \n",
       "\n",
       "       zip                    title            timeStamp                twp  \\\n",
       "0  19525.0   EMS: BACK PAINS/INJURY  2015-12-10 17:10:52        NEW HANOVER   \n",
       "1  19446.0  EMS: DIABETIC EMERGENCY  2015-12-10 17:29:21  HATFIELD TOWNSHIP   \n",
       "2  19401.0      Fire: GAS-ODOR/LEAK  2015-12-10 14:39:21         NORRISTOWN   \n",
       "3  19401.0   EMS: CARDIAC EMERGENCY  2015-12-10 16:47:36         NORRISTOWN   \n",
       "4      NaN           EMS: DIZZINESS  2015-12-10 16:56:52   LOWER POTTSGROVE   \n",
       "\n",
       "                         addr  e  \n",
       "0      REINDEER CT & DEAD END  1  \n",
       "1  BRIAR PATH & WHITEMARSH LN  1  \n",
       "2                    HAWS AVE  1  \n",
       "3          AIRY ST & SWEDE ST  1  \n",
       "4    CHERRYWOOD CT & DEAD END  1  "
      ]
     },
     "execution_count": 1,
     "metadata": {},
     "output_type": "execute_result"
    }
   ],
   "source": [
    "import pandas as pd\n",
    "\n",
    "# coneting the dataset from github,\"remember: - data should be a raw form like \"raw.---\" and the process it further\n",
    "url = \"https://raw.githubusercontent.com/mukut45/911-call-data-analysis-for-Pennsylvania-USA_python/refs/heads/main/911.csv\"\n",
    "df = pd.read_csv(url)\n",
    "df.head (5) # printing the top 10 data from the given dataset"
   ]
  },
  {
   "cell_type": "code",
   "execution_count": 3,
   "id": "70b79947-c46e-4c69-9a4a-ace4e8563a74",
   "metadata": {},
   "outputs": [
    {
     "name": "stdout",
     "output_type": "stream",
     "text": [
      "zip\n",
      "19401.0    18401\n",
      "19464.0    17937\n",
      "19403.0    13366\n",
      "19446.0    12828\n",
      "19406.0     8820\n",
      "19002.0     8367\n",
      "19468.0     7860\n",
      "19046.0     7340\n",
      "19454.0     7274\n",
      "19090.0     6999\n",
      "Name: count, dtype: int64\n"
     ]
    }
   ],
   "source": [
    "# Count occurrences of each zipcode\n",
    "top_zipcodes = df[\"zip\"].value_counts().head(10) # computing the top 10 zip code for 911 with there counts of accurence\n",
    "\n",
    "# Display the result\n",
    "print(top_zipcodes)"
   ]
  },
  {
   "cell_type": "markdown",
   "id": "aec21ef0-0a63-4ef5-802c-0ac01f225b05",
   "metadata": {},
   "source": [
    "### Answer is:  from the above analysis, YES the given 19090.0 and 19446.0 present in top 10 zip codes in 911"
   ]
  },
  {
   "cell_type": "markdown",
   "id": "7baf3c37-cdf1-462d-a304-42b7da34fbdd",
   "metadata": {},
   "source": [
    "### Compute - What are the top 4 townships (twp) for 911 calls and Question 2: Which \n",
    "of the following township are not present? -- LOWER POTTSGROVE, NORRISTOWN \r\n",
    "HORSHAM, ABINGTON"
   ]
  },
  {
   "cell_type": "code",
   "execution_count": 7,
   "id": "088bb3ae-8d62-42ee-8ff6-3a14513dfec4",
   "metadata": {},
   "outputs": [
    {
     "data": {
      "text/plain": [
       "twp\n",
       "LOWER MERION    22886\n",
       "ABINGTON        16379\n",
       "NORRISTOWN      15421\n",
       "UPPER MERION    14015\n",
       "CHELTENHAM      12272\n",
       "Name: count, dtype: int64"
      ]
     },
     "execution_count": 7,
     "metadata": {},
     "output_type": "execute_result"
    }
   ],
   "source": [
    "top_4_township = df[\"twp\"].value_counts().head(5) # cheking for the top 4 twp in 911\n",
    "top_4_township"
   ]
  },
  {
   "cell_type": "markdown",
   "id": "1ca42162-134c-40cb-818c-f64538626f35",
   "metadata": {},
   "source": [
    "### Answer is : LOWER POTTSGROVE and ABINGTON township are not present"
   ]
  },
  {
   "cell_type": "markdown",
   "id": "482da6f2-456c-4293-8ea0-0e505b7523fd",
   "metadata": {},
   "source": [
    "### Compute - Create new features and Question 3: What is the most common reason for \n",
    "911 calls based on the Reason Column?Look for the column in the datasetd"
   ]
  },
  {
   "cell_type": "code",
   "execution_count": 11,
   "id": "b4be97f1-a94d-4bc3-b89f-d6be16375dd6",
   "metadata": {},
   "outputs": [
    {
     "data": {
      "text/plain": [
       "0"
      ]
     },
     "execution_count": 11,
     "metadata": {},
     "output_type": "execute_result"
    }
   ],
   "source": [
    "# Check for null values in the 'title' column\n",
    "missing_titles = df[\"title\"].isnull().sum()\n",
    "missing_titles"
   ]
  },
  {
   "cell_type": "code",
   "execution_count": 13,
   "id": "b965f92f-6963-448a-acca-6a8d2b4550fb",
   "metadata": {},
   "outputs": [
    {
     "name": "stdout",
     "output_type": "stream",
     "text": [
      "The most common reason for 911 calls is: EMS\n",
      "\n",
      "Count of each reason:\n",
      " Reason\n",
      "EMS        133234\n",
      "Traffic     93400\n",
      "Fire        39909\n",
      "Name: count, dtype: int64\n"
     ]
    }
   ],
   "source": [
    "# Extract Reason from the 'title' column\n",
    "df[\"Reason\"] = df[\"title\"].apply(lambda x: x.split(\":\")[0]) # spliting by \":\" in the index [0]\n",
    "\n",
    "# Count occurrences of each Reason\n",
    "common_reason = df[\"Reason\"].value_counts()\n",
    "\n",
    "# Display the most common reason\n",
    "print(f\"The most common reason for 911 calls is: {common_reason.idxmax()}\")\n",
    "print(\"\\nCount of each reason:\\n\", common_reason)\n"
   ]
  },
  {
   "cell_type": "code",
   "execution_count": 15,
   "id": "57655d65-0acd-4c70-88f7-214750f0c8f2",
   "metadata": {},
   "outputs": [
    {
     "data": {
      "text/plain": [
       "['lat',\n",
       " 'lng',\n",
       " 'desc',\n",
       " 'zip',\n",
       " 'title',\n",
       " 'timeStamp',\n",
       " 'twp',\n",
       " 'addr',\n",
       " 'e',\n",
       " 'Reason']"
      ]
     },
     "execution_count": 15,
     "metadata": {},
     "output_type": "execute_result"
    }
   ],
   "source": [
    "# Reorder columns so that 'Reason' is the second column\n",
    "cols = df.columns.tolist()  # Get the list of columns\n",
    "cols"
   ]
  },
  {
   "cell_type": "code",
   "execution_count": 17,
   "id": "aedb9fc9-96f6-4227-a5e6-4d9cd90bda69",
   "metadata": {},
   "outputs": [
    {
     "name": "stdout",
     "output_type": "stream",
     "text": [
      "         lat Reason        lng  \\\n",
      "0  40.297876    EMS -75.581294   \n",
      "1  40.258061    EMS -75.264680   \n",
      "2  40.121182   Fire -75.351975   \n",
      "3  40.116153    EMS -75.343513   \n",
      "4  40.251492    EMS -75.603350   \n",
      "\n",
      "                                                desc      zip  \\\n",
      "0  REINDEER CT & DEAD END;  NEW HANOVER; Station ...  19525.0   \n",
      "1  BRIAR PATH & WHITEMARSH LN;  HATFIELD TOWNSHIP...  19446.0   \n",
      "2  HAWS AVE; NORRISTOWN; 2015-12-10 @ 14:39:21-St...  19401.0   \n",
      "3  AIRY ST & SWEDE ST;  NORRISTOWN; Station 308A;...  19401.0   \n",
      "4  CHERRYWOOD CT & DEAD END;  LOWER POTTSGROVE; S...      NaN   \n",
      "\n",
      "                     title            timeStamp                twp  \\\n",
      "0   EMS: BACK PAINS/INJURY  2015-12-10 17:10:52        NEW HANOVER   \n",
      "1  EMS: DIABETIC EMERGENCY  2015-12-10 17:29:21  HATFIELD TOWNSHIP   \n",
      "2      Fire: GAS-ODOR/LEAK  2015-12-10 14:39:21         NORRISTOWN   \n",
      "3   EMS: CARDIAC EMERGENCY  2015-12-10 16:47:36         NORRISTOWN   \n",
      "4           EMS: DIZZINESS  2015-12-10 16:56:52   LOWER POTTSGROVE   \n",
      "\n",
      "                         addr  e  \n",
      "0      REINDEER CT & DEAD END  1  \n",
      "1  BRIAR PATH & WHITEMARSH LN  1  \n",
      "2                    HAWS AVE  1  \n",
      "3          AIRY ST & SWEDE ST  1  \n",
      "4    CHERRYWOOD CT & DEAD END  1  \n"
     ]
    }
   ],
   "source": [
    "cols.insert(1, cols.pop(cols.index(\"Reason\")))  # Move 'Reason' to the second position\n",
    "df = df[cols]  # Reassign DataFrame with reordered columns\n",
    "\n",
    "# Display the first few rows to verify\n",
    "print(df.head())"
   ]
  },
  {
   "cell_type": "code",
   "execution_count": 19,
   "id": "04e28d82-c2c6-4f65-ac70-6a0de92e3bb8",
   "metadata": {},
   "outputs": [
    {
     "data": {
      "text/html": [
       "<div>\n",
       "<style scoped>\n",
       "    .dataframe tbody tr th:only-of-type {\n",
       "        vertical-align: middle;\n",
       "    }\n",
       "\n",
       "    .dataframe tbody tr th {\n",
       "        vertical-align: top;\n",
       "    }\n",
       "\n",
       "    .dataframe thead th {\n",
       "        text-align: right;\n",
       "    }\n",
       "</style>\n",
       "<table border=\"1\" class=\"dataframe\">\n",
       "  <thead>\n",
       "    <tr style=\"text-align: right;\">\n",
       "      <th></th>\n",
       "      <th>lat</th>\n",
       "      <th>Reason</th>\n",
       "      <th>lng</th>\n",
       "      <th>desc</th>\n",
       "      <th>zip</th>\n",
       "      <th>title</th>\n",
       "      <th>timeStamp</th>\n",
       "      <th>twp</th>\n",
       "      <th>addr</th>\n",
       "      <th>e</th>\n",
       "    </tr>\n",
       "  </thead>\n",
       "  <tbody>\n",
       "    <tr>\n",
       "      <th>0</th>\n",
       "      <td>40.297876</td>\n",
       "      <td>EMS</td>\n",
       "      <td>-75.581294</td>\n",
       "      <td>REINDEER CT &amp; DEAD END;  NEW HANOVER; Station ...</td>\n",
       "      <td>19525.0</td>\n",
       "      <td>EMS: BACK PAINS/INJURY</td>\n",
       "      <td>2015-12-10 17:10:52</td>\n",
       "      <td>NEW HANOVER</td>\n",
       "      <td>REINDEER CT &amp; DEAD END</td>\n",
       "      <td>1</td>\n",
       "    </tr>\n",
       "    <tr>\n",
       "      <th>1</th>\n",
       "      <td>40.258061</td>\n",
       "      <td>EMS</td>\n",
       "      <td>-75.264680</td>\n",
       "      <td>BRIAR PATH &amp; WHITEMARSH LN;  HATFIELD TOWNSHIP...</td>\n",
       "      <td>19446.0</td>\n",
       "      <td>EMS: DIABETIC EMERGENCY</td>\n",
       "      <td>2015-12-10 17:29:21</td>\n",
       "      <td>HATFIELD TOWNSHIP</td>\n",
       "      <td>BRIAR PATH &amp; WHITEMARSH LN</td>\n",
       "      <td>1</td>\n",
       "    </tr>\n",
       "    <tr>\n",
       "      <th>2</th>\n",
       "      <td>40.121182</td>\n",
       "      <td>Fire</td>\n",
       "      <td>-75.351975</td>\n",
       "      <td>HAWS AVE; NORRISTOWN; 2015-12-10 @ 14:39:21-St...</td>\n",
       "      <td>19401.0</td>\n",
       "      <td>Fire: GAS-ODOR/LEAK</td>\n",
       "      <td>2015-12-10 14:39:21</td>\n",
       "      <td>NORRISTOWN</td>\n",
       "      <td>HAWS AVE</td>\n",
       "      <td>1</td>\n",
       "    </tr>\n",
       "    <tr>\n",
       "      <th>3</th>\n",
       "      <td>40.116153</td>\n",
       "      <td>EMS</td>\n",
       "      <td>-75.343513</td>\n",
       "      <td>AIRY ST &amp; SWEDE ST;  NORRISTOWN; Station 308A;...</td>\n",
       "      <td>19401.0</td>\n",
       "      <td>EMS: CARDIAC EMERGENCY</td>\n",
       "      <td>2015-12-10 16:47:36</td>\n",
       "      <td>NORRISTOWN</td>\n",
       "      <td>AIRY ST &amp; SWEDE ST</td>\n",
       "      <td>1</td>\n",
       "    </tr>\n",
       "    <tr>\n",
       "      <th>4</th>\n",
       "      <td>40.251492</td>\n",
       "      <td>EMS</td>\n",
       "      <td>-75.603350</td>\n",
       "      <td>CHERRYWOOD CT &amp; DEAD END;  LOWER POTTSGROVE; S...</td>\n",
       "      <td>NaN</td>\n",
       "      <td>EMS: DIZZINESS</td>\n",
       "      <td>2015-12-10 16:56:52</td>\n",
       "      <td>LOWER POTTSGROVE</td>\n",
       "      <td>CHERRYWOOD CT &amp; DEAD END</td>\n",
       "      <td>1</td>\n",
       "    </tr>\n",
       "  </tbody>\n",
       "</table>\n",
       "</div>"
      ],
      "text/plain": [
       "         lat Reason        lng  \\\n",
       "0  40.297876    EMS -75.581294   \n",
       "1  40.258061    EMS -75.264680   \n",
       "2  40.121182   Fire -75.351975   \n",
       "3  40.116153    EMS -75.343513   \n",
       "4  40.251492    EMS -75.603350   \n",
       "\n",
       "                                                desc      zip  \\\n",
       "0  REINDEER CT & DEAD END;  NEW HANOVER; Station ...  19525.0   \n",
       "1  BRIAR PATH & WHITEMARSH LN;  HATFIELD TOWNSHIP...  19446.0   \n",
       "2  HAWS AVE; NORRISTOWN; 2015-12-10 @ 14:39:21-St...  19401.0   \n",
       "3  AIRY ST & SWEDE ST;  NORRISTOWN; Station 308A;...  19401.0   \n",
       "4  CHERRYWOOD CT & DEAD END;  LOWER POTTSGROVE; S...      NaN   \n",
       "\n",
       "                     title            timeStamp                twp  \\\n",
       "0   EMS: BACK PAINS/INJURY  2015-12-10 17:10:52        NEW HANOVER   \n",
       "1  EMS: DIABETIC EMERGENCY  2015-12-10 17:29:21  HATFIELD TOWNSHIP   \n",
       "2      Fire: GAS-ODOR/LEAK  2015-12-10 14:39:21         NORRISTOWN   \n",
       "3   EMS: CARDIAC EMERGENCY  2015-12-10 16:47:36         NORRISTOWN   \n",
       "4           EMS: DIZZINESS  2015-12-10 16:56:52   LOWER POTTSGROVE   \n",
       "\n",
       "                         addr  e  \n",
       "0      REINDEER CT & DEAD END  1  \n",
       "1  BRIAR PATH & WHITEMARSH LN  1  \n",
       "2                    HAWS AVE  1  \n",
       "3          AIRY ST & SWEDE ST  1  \n",
       "4    CHERRYWOOD CT & DEAD END  1  "
      ]
     },
     "execution_count": 19,
     "metadata": {},
     "output_type": "execute_result"
    }
   ],
   "source": [
    "df.head() # reconferming, if the \"Reason\" column is added as a second column"
   ]
  },
  {
   "cell_type": "markdown",
   "id": "6b945f3c-21ad-48d1-b864-93bd244a38c1",
   "metadata": {},
   "source": [
    "### Answer is: EMS"
   ]
  },
  {
   "cell_type": "markdown",
   "id": "cfa60e51-eb6a-41f5-90d5-afb0438e61de",
   "metadata": {},
   "source": [
    "### Plot barchart using matplot for 911 calls by Reason and Question 4: How \n",
    "can you plot the bars horizontally?"
   ]
  },
  {
   "cell_type": "code",
   "execution_count": 23,
   "id": "818c6505-f8e7-46f4-afab-5290aaf8ac46",
   "metadata": {},
   "outputs": [
    {
     "name": "stdout",
     "output_type": "stream",
     "text": [
      "['EMS' 'Fire' 'Traffic']\n"
     ]
    }
   ],
   "source": [
    "# Print unique values from a specific column (replace 'column_name' with actual column)\n",
    "unique_values = df[\"Reason\"].unique()\n",
    "\n",
    "# Display the unique values\n",
    "print(unique_values)\n"
   ]
  },
  {
   "cell_type": "code",
   "execution_count": 25,
   "id": "87b341f5-2e5e-4fa1-b817-1900db15f640",
   "metadata": {},
   "outputs": [
    {
     "name": "stdout",
     "output_type": "stream",
     "text": [
      "[19525. 19446. 19401.    nan 19044. 19426. 19438. 19462. 19428. 19040.\n",
      " 19027. 18936. 18974. 19031. 19403. 19422. 19085. 18964. 19038. 19406.\n",
      " 19468. 19010. 19095. 19464. 19444. 19041. 19440. 19405. 19002. 19096.\n",
      " 19454. 19465. 19004. 19066. 19072. 18041. 19046. 19090. 19012. 19025.\n",
      " 19473. 18073. 18969. 18074. 19460. 19001. 18054. 19009. 19006. 19035.\n",
      " 19150. 19075. 19034. 19151. 19453. 19003. 18914. 19512. 18976. 19120.\n",
      " 18915. 18076. 19477. 19087. 18966. 19131. 19128. 19083. 19053. 19475.\n",
      " 18960. 19504. 18070. 19492. 18932. 19118. 18092. 19490. 19518. 18056.\n",
      " 19119. 19107. 17752. 19111. 18927. 19435. 18951. 19472. 19503. 19126.\n",
      " 19505. 19423. 19138. 36107. 18036. 19116. 19139. 19129. 19115. 19355.\n",
      " 77316. 19457. 19082. 19127. 19443. 17555. 19520. 19063. 19020. 19404.\n",
      " 19382. 19474. 19057. 19073. 19121. 18958. 19026. 19018. 19047. 19064.\n",
      " 19602.]\n"
     ]
    }
   ],
   "source": [
    "# Print unique values from a specific column (replace 'column_name' with actual column)\n",
    "unique_values = df[\"zip\"].unique()\n",
    "\n",
    "# Display the unique values\n",
    "print(unique_values)"
   ]
  },
  {
   "cell_type": "code",
   "execution_count": 27,
   "id": "a67735ee-580b-43f8-9131-4742aee7f0e3",
   "metadata": {},
   "outputs": [
    {
     "data": {
      "text/plain": [
       "120"
      ]
     },
     "execution_count": 27,
     "metadata": {},
     "output_type": "execute_result"
    }
   ],
   "source": [
    "# Count the number of unique zip codes\n",
    "unique_zip_count = df[\"zip\"].nunique()\n",
    "unique_zip_count"
   ]
  },
  {
   "cell_type": "code",
   "execution_count": 29,
   "id": "9d06e057-e00b-4220-bdd1-bf4ad8b230c6",
   "metadata": {},
   "outputs": [
    {
     "name": "stdout",
     "output_type": "stream",
     "text": [
      "['NEW HANOVER' 'HATFIELD TOWNSHIP' 'NORRISTOWN' 'LOWER POTTSGROVE'\n",
      " 'LANSDALE' 'HORSHAM' 'SKIPPACK' 'LOWER SALFORD' 'PLYMOUTH' 'MONTGOMERY'\n",
      " 'UPPER MORELAND' 'CHELTENHAM' 'UPPER MERION' 'WHITEMARSH' 'UPPER GWYNEDD'\n",
      " 'LOWER PROVIDENCE' 'UPPER DUBLIN' 'WHITPAIN' 'DELAWARE COUNTY'\n",
      " 'FRANCONIA' 'WEST CONSHOHOCKEN' 'LOWER MERION' 'LIMERICK' 'TOWAMENCIN'\n",
      " 'DOUGLASS' 'POTTSTOWN' 'BRIDGEPORT' 'AMBLER' 'CHESTER COUNTY'\n",
      " 'UPPER HANOVER' 'SPRINGFIELD' 'ROCKLEDGE' 'ABINGTON' 'WEST NORRITON'\n",
      " 'ROYERSFORD' 'UPPER SALFORD' 'LOWER MORELAND' 'CONSHOHOCKEN' 'PENNSBURG'\n",
      " 'TELFORD' 'EAST NORRITON' 'UPPER FREDERICK' 'UPPER PROVIDENCE' 'SALFORD'\n",
      " 'HATFIELD BORO' 'LEHIGH COUNTY' 'LOWER GWYNEDD' 'MARLBOROUGH'\n",
      " 'BRYN ATHYN' 'HATBORO' 'WORCESTER' 'COLLEGEVILLE' 'SCHWENKSVILLE'\n",
      " 'PERKIOMEN' 'SOUDERTON' 'UPPER POTTSGROVE' 'LOWER FREDERICK'\n",
      " 'BUCKS COUNTY' 'RED HILL' 'WEST POTTSGROVE' 'EAST GREENVILLE'\n",
      " 'BERKS COUNTY' 'NORTH WALES' 'JENKINTOWN' 'TRAPPE' nan 'NARBERTH'\n",
      " 'GREEN LANE' 'PHILA COUNTY']\n"
     ]
    }
   ],
   "source": [
    "# Print unique values from a specific column (replace 'column_name' with actual column)\n",
    "unique_values = df[\"twp\"].unique()\n",
    "\n",
    "# Display the unique values\n",
    "print(unique_values)"
   ]
  },
  {
   "cell_type": "code",
   "execution_count": 31,
   "id": "d8301214-410f-4a99-bb1a-397e3a3de9ff",
   "metadata": {},
   "outputs": [
    {
     "data": {
      "text/plain": [
       "68"
      ]
     },
     "execution_count": 31,
     "metadata": {},
     "output_type": "execute_result"
    }
   ],
   "source": [
    "# Count the number of unique township\n",
    "unique_township = df[\"twp\"].nunique()\n",
    "unique_township"
   ]
  },
  {
   "cell_type": "code",
   "execution_count": 33,
   "id": "ef0c9531-8017-4e13-9cbc-659bead8566e",
   "metadata": {},
   "outputs": [
    {
     "data": {
      "image/png": "[encoded data removed]",
      "text/plain": [
       "<Figure size 800x500 with 1 Axes>"
      ]
     },
     "metadata": {},
     "output_type": "display_data"
    }
   ],
   "source": [
    "import matplotlib.pyplot as plt\n",
    "\n",
    "# Plot bar chart\n",
    "plt.figure(figsize=(8, 5))\n",
    "plt.bar(common_reason.index, common_reason.values, color=[\"red\", \"blue\", \"green\"])\n",
    "\n",
    "# Add labels and title\n",
    "plt.xlabel(\"Reason\", fontsize=12)\n",
    "plt.ylabel(\"unique_township\", fontsize=12)\n",
    "plt.title(\"911 Calls by Reason\", fontsize=14)\n",
    "plt.xticks(rotation=0)  # Keep labels horizontal\n",
    "\n",
    "# Show plot\n",
    "plt.show()"
   ]
  },
  {
   "cell_type": "markdown",
   "id": "7ed36eb8-fceb-476d-9e1a-d62a31ea06df",
   "metadata": {},
   "source": [
    "### Plot the same bar chart like above but horizontaly"
   ]
  },
  {
   "cell_type": "code",
   "execution_count": 36,
   "id": "caa4bb58-57f1-4b33-bf43-9c09dc5bdb4a",
   "metadata": {},
   "outputs": [
    {
     "data": {
      "image/png": "[encoded data removed]",
      "text/plain": [
       "<Figure size 640x480 with 1 Axes>"
      ]
     },
     "metadata": {},
     "output_type": "display_data"
    }
   ],
   "source": [
    "import matplotlib.pyplot as plt\n",
    "\n",
    "# Extract x and y values\n",
    "x_values = common_reason.index  # Categories (e.g., Medical, Fire, Traffic)\n",
    "y_values = common_reason.values  # Number of calls\n",
    "\n",
    "# Define colors\n",
    "colors = [\"red\", \"blue\", \"green\"]\n",
    "\n",
    "# Plot the horizontal bar chart\n",
    "plt.barh(x_values, y_values, color=colors) # \"barh\" is used for horizontal ploting\n",
    "\n",
    "# Labels and title\n",
    "plt.xlabel(\"Number of Calls\")\n",
    "plt.ylabel(\"Reason for 911 Calls\")\n",
    "plt.title(\"911 Calls by Reason\")\n",
    "\n",
    "# Show the plot\n",
    "plt.show()"
   ]
  },
  {
   "cell_type": "markdown",
   "id": "e5f1cf80-8e71-4c70-9807-e15008348680",
   "metadata": {},
   "source": [
    "### Question 5: Which day got maximum calls for EMS and how many??"
   ]
  },
  {
   "cell_type": "code",
   "execution_count": 39,
   "id": "a1212414-4c72-4431-b516-3b74c1b042f4",
   "metadata": {},
   "outputs": [
    {
     "name": "stdout",
     "output_type": "stream",
     "text": [
      "lat          float64\n",
      "Reason        object\n",
      "lng          float64\n",
      "desc          object\n",
      "zip          float64\n",
      "title         object\n",
      "timeStamp     object\n",
      "twp           object\n",
      "addr          object\n",
      "e              int64\n",
      "dtype: object\n"
     ]
    }
   ],
   "source": [
    "print(df.dtypes)"
   ]
  },
  {
   "cell_type": "code",
   "execution_count": 41,
   "id": "965644bb-378d-4d3e-b376-173e9097d439",
   "metadata": {},
   "outputs": [],
   "source": [
    "# Convert 'timeStamp' to datetime format\n",
    "df[\"timeStamp\"] = pd.to_datetime(df[\"timeStamp\"])"
   ]
  },
  {
   "cell_type": "code",
   "execution_count": 42,
   "id": "e2172593-e595-4ed0-bda8-9ed1505c6f92",
   "metadata": {},
   "outputs": [
    {
     "name": "stdout",
     "output_type": "stream",
     "text": [
      "lat                 float64\n",
      "Reason               object\n",
      "lng                 float64\n",
      "desc                 object\n",
      "zip                 float64\n",
      "title                object\n",
      "timeStamp    datetime64[ns]\n",
      "twp                  object\n",
      "addr                 object\n",
      "e                     int64\n",
      "dtype: object\n"
     ]
    }
   ],
   "source": [
    "print(df.dtypes) # checking the datatypes if converted"
   ]
  },
  {
   "cell_type": "code",
   "execution_count": 45,
   "id": "6f071be6-1832-429a-b1d4-57594fe841dd",
   "metadata": {},
   "outputs": [
    {
     "data": {
      "text/html": [
       "<div>\n",
       "<style scoped>\n",
       "    .dataframe tbody tr th:only-of-type {\n",
       "        vertical-align: middle;\n",
       "    }\n",
       "\n",
       "    .dataframe tbody tr th {\n",
       "        vertical-align: top;\n",
       "    }\n",
       "\n",
       "    .dataframe thead th {\n",
       "        text-align: right;\n",
       "    }\n",
       "</style>\n",
       "<table border=\"1\" class=\"dataframe\">\n",
       "  <thead>\n",
       "    <tr style=\"text-align: right;\">\n",
       "      <th></th>\n",
       "      <th>lat</th>\n",
       "      <th>Reason</th>\n",
       "      <th>lng</th>\n",
       "      <th>desc</th>\n",
       "      <th>zip</th>\n",
       "      <th>title</th>\n",
       "      <th>timeStamp</th>\n",
       "      <th>twp</th>\n",
       "      <th>addr</th>\n",
       "      <th>e</th>\n",
       "      <th>DayOfWeek</th>\n",
       "    </tr>\n",
       "  </thead>\n",
       "  <tbody>\n",
       "    <tr>\n",
       "      <th>0</th>\n",
       "      <td>40.297876</td>\n",
       "      <td>EMS</td>\n",
       "      <td>-75.581294</td>\n",
       "      <td>REINDEER CT &amp; DEAD END;  NEW HANOVER; Station ...</td>\n",
       "      <td>19525.0</td>\n",
       "      <td>EMS: BACK PAINS/INJURY</td>\n",
       "      <td>2015-12-10 17:10:52</td>\n",
       "      <td>NEW HANOVER</td>\n",
       "      <td>REINDEER CT &amp; DEAD END</td>\n",
       "      <td>1</td>\n",
       "      <td>Thursday</td>\n",
       "    </tr>\n",
       "    <tr>\n",
       "      <th>1</th>\n",
       "      <td>40.258061</td>\n",
       "      <td>EMS</td>\n",
       "      <td>-75.264680</td>\n",
       "      <td>BRIAR PATH &amp; WHITEMARSH LN;  HATFIELD TOWNSHIP...</td>\n",
       "      <td>19446.0</td>\n",
       "      <td>EMS: DIABETIC EMERGENCY</td>\n",
       "      <td>2015-12-10 17:29:21</td>\n",
       "      <td>HATFIELD TOWNSHIP</td>\n",
       "      <td>BRIAR PATH &amp; WHITEMARSH LN</td>\n",
       "      <td>1</td>\n",
       "      <td>Thursday</td>\n",
       "    </tr>\n",
       "    <tr>\n",
       "      <th>2</th>\n",
       "      <td>40.121182</td>\n",
       "      <td>Fire</td>\n",
       "      <td>-75.351975</td>\n",
       "      <td>HAWS AVE; NORRISTOWN; 2015-12-10 @ 14:39:21-St...</td>\n",
       "      <td>19401.0</td>\n",
       "      <td>Fire: GAS-ODOR/LEAK</td>\n",
       "      <td>2015-12-10 14:39:21</td>\n",
       "      <td>NORRISTOWN</td>\n",
       "      <td>HAWS AVE</td>\n",
       "      <td>1</td>\n",
       "      <td>Thursday</td>\n",
       "    </tr>\n",
       "    <tr>\n",
       "      <th>3</th>\n",
       "      <td>40.116153</td>\n",
       "      <td>EMS</td>\n",
       "      <td>-75.343513</td>\n",
       "      <td>AIRY ST &amp; SWEDE ST;  NORRISTOWN; Station 308A;...</td>\n",
       "      <td>19401.0</td>\n",
       "      <td>EMS: CARDIAC EMERGENCY</td>\n",
       "      <td>2015-12-10 16:47:36</td>\n",
       "      <td>NORRISTOWN</td>\n",
       "      <td>AIRY ST &amp; SWEDE ST</td>\n",
       "      <td>1</td>\n",
       "      <td>Thursday</td>\n",
       "    </tr>\n",
       "    <tr>\n",
       "      <th>4</th>\n",
       "      <td>40.251492</td>\n",
       "      <td>EMS</td>\n",
       "      <td>-75.603350</td>\n",
       "      <td>CHERRYWOOD CT &amp; DEAD END;  LOWER POTTSGROVE; S...</td>\n",
       "      <td>NaN</td>\n",
       "      <td>EMS: DIZZINESS</td>\n",
       "      <td>2015-12-10 16:56:52</td>\n",
       "      <td>LOWER POTTSGROVE</td>\n",
       "      <td>CHERRYWOOD CT &amp; DEAD END</td>\n",
       "      <td>1</td>\n",
       "      <td>Thursday</td>\n",
       "    </tr>\n",
       "  </tbody>\n",
       "</table>\n",
       "</div>"
      ],
      "text/plain": [
       "         lat Reason        lng  \\\n",
       "0  40.297876    EMS -75.581294   \n",
       "1  40.258061    EMS -75.264680   \n",
       "2  40.121182   Fire -75.351975   \n",
       "3  40.116153    EMS -75.343513   \n",
       "4  40.251492    EMS -75.603350   \n",
       "\n",
       "                                                desc      zip  \\\n",
       "0  REINDEER CT & DEAD END;  NEW HANOVER; Station ...  19525.0   \n",
       "1  BRIAR PATH & WHITEMARSH LN;  HATFIELD TOWNSHIP...  19446.0   \n",
       "2  HAWS AVE; NORRISTOWN; 2015-12-10 @ 14:39:21-St...  19401.0   \n",
       "3  AIRY ST & SWEDE ST;  NORRISTOWN; Station 308A;...  19401.0   \n",
       "4  CHERRYWOOD CT & DEAD END;  LOWER POTTSGROVE; S...      NaN   \n",
       "\n",
       "                     title           timeStamp                twp  \\\n",
       "0   EMS: BACK PAINS/INJURY 2015-12-10 17:10:52        NEW HANOVER   \n",
       "1  EMS: DIABETIC EMERGENCY 2015-12-10 17:29:21  HATFIELD TOWNSHIP   \n",
       "2      Fire: GAS-ODOR/LEAK 2015-12-10 14:39:21         NORRISTOWN   \n",
       "3   EMS: CARDIAC EMERGENCY 2015-12-10 16:47:36         NORRISTOWN   \n",
       "4           EMS: DIZZINESS 2015-12-10 16:56:52   LOWER POTTSGROVE   \n",
       "\n",
       "                         addr  e DayOfWeek  \n",
       "0      REINDEER CT & DEAD END  1  Thursday  \n",
       "1  BRIAR PATH & WHITEMARSH LN  1  Thursday  \n",
       "2                    HAWS AVE  1  Thursday  \n",
       "3          AIRY ST & SWEDE ST  1  Thursday  \n",
       "4    CHERRYWOOD CT & DEAD END  1  Thursday  "
      ]
     },
     "execution_count": 45,
     "metadata": {},
     "output_type": "execute_result"
    }
   ],
   "source": [
    "# Extract the day of the week\n",
    "df[\"DayOfWeek\"] = df[\"timeStamp\"].dt.day_name() \n",
    "df.head() # checking"
   ]
  },
  {
   "cell_type": "code",
   "execution_count": 47,
   "id": "7eb2ecf7-96e6-4141-9842-f39e452dd56f",
   "metadata": {},
   "outputs": [
    {
     "data": {
      "text/html": [
       "<div>\n",
       "<style scoped>\n",
       "    .dataframe tbody tr th:only-of-type {\n",
       "        vertical-align: middle;\n",
       "    }\n",
       "\n",
       "    .dataframe tbody tr th {\n",
       "        vertical-align: top;\n",
       "    }\n",
       "\n",
       "    .dataframe thead th {\n",
       "        text-align: right;\n",
       "    }\n",
       "</style>\n",
       "<table border=\"1\" class=\"dataframe\">\n",
       "  <thead>\n",
       "    <tr style=\"text-align: right;\">\n",
       "      <th></th>\n",
       "      <th>lat</th>\n",
       "      <th>Reason</th>\n",
       "      <th>lng</th>\n",
       "      <th>desc</th>\n",
       "      <th>zip</th>\n",
       "      <th>title</th>\n",
       "      <th>timeStamp</th>\n",
       "      <th>twp</th>\n",
       "      <th>addr</th>\n",
       "      <th>e</th>\n",
       "      <th>DayOfWeek</th>\n",
       "    </tr>\n",
       "  </thead>\n",
       "  <tbody>\n",
       "    <tr>\n",
       "      <th>0</th>\n",
       "      <td>40.297876</td>\n",
       "      <td>EMS</td>\n",
       "      <td>-75.581294</td>\n",
       "      <td>REINDEER CT &amp; DEAD END;  NEW HANOVER; Station ...</td>\n",
       "      <td>19525.0</td>\n",
       "      <td>EMS: BACK PAINS/INJURY</td>\n",
       "      <td>2015-12-10 17:10:52</td>\n",
       "      <td>NEW HANOVER</td>\n",
       "      <td>REINDEER CT &amp; DEAD END</td>\n",
       "      <td>1</td>\n",
       "      <td>Thursday</td>\n",
       "    </tr>\n",
       "    <tr>\n",
       "      <th>1</th>\n",
       "      <td>40.258061</td>\n",
       "      <td>EMS</td>\n",
       "      <td>-75.264680</td>\n",
       "      <td>BRIAR PATH &amp; WHITEMARSH LN;  HATFIELD TOWNSHIP...</td>\n",
       "      <td>19446.0</td>\n",
       "      <td>EMS: DIABETIC EMERGENCY</td>\n",
       "      <td>2015-12-10 17:29:21</td>\n",
       "      <td>HATFIELD TOWNSHIP</td>\n",
       "      <td>BRIAR PATH &amp; WHITEMARSH LN</td>\n",
       "      <td>1</td>\n",
       "      <td>Thursday</td>\n",
       "    </tr>\n",
       "    <tr>\n",
       "      <th>3</th>\n",
       "      <td>40.116153</td>\n",
       "      <td>EMS</td>\n",
       "      <td>-75.343513</td>\n",
       "      <td>AIRY ST &amp; SWEDE ST;  NORRISTOWN; Station 308A;...</td>\n",
       "      <td>19401.0</td>\n",
       "      <td>EMS: CARDIAC EMERGENCY</td>\n",
       "      <td>2015-12-10 16:47:36</td>\n",
       "      <td>NORRISTOWN</td>\n",
       "      <td>AIRY ST &amp; SWEDE ST</td>\n",
       "      <td>1</td>\n",
       "      <td>Thursday</td>\n",
       "    </tr>\n",
       "    <tr>\n",
       "      <th>4</th>\n",
       "      <td>40.251492</td>\n",
       "      <td>EMS</td>\n",
       "      <td>-75.603350</td>\n",
       "      <td>CHERRYWOOD CT &amp; DEAD END;  LOWER POTTSGROVE; S...</td>\n",
       "      <td>NaN</td>\n",
       "      <td>EMS: DIZZINESS</td>\n",
       "      <td>2015-12-10 16:56:52</td>\n",
       "      <td>LOWER POTTSGROVE</td>\n",
       "      <td>CHERRYWOOD CT &amp; DEAD END</td>\n",
       "      <td>1</td>\n",
       "      <td>Thursday</td>\n",
       "    </tr>\n",
       "    <tr>\n",
       "      <th>5</th>\n",
       "      <td>40.253473</td>\n",
       "      <td>EMS</td>\n",
       "      <td>-75.283245</td>\n",
       "      <td>CANNON AVE &amp; W 9TH ST;  LANSDALE; Station 345;...</td>\n",
       "      <td>19446.0</td>\n",
       "      <td>EMS: HEAD INJURY</td>\n",
       "      <td>2015-12-10 15:39:04</td>\n",
       "      <td>LANSDALE</td>\n",
       "      <td>CANNON AVE &amp; W 9TH ST</td>\n",
       "      <td>1</td>\n",
       "      <td>Thursday</td>\n",
       "    </tr>\n",
       "  </tbody>\n",
       "</table>\n",
       "</div>"
      ],
      "text/plain": [
       "         lat Reason        lng  \\\n",
       "0  40.297876    EMS -75.581294   \n",
       "1  40.258061    EMS -75.264680   \n",
       "3  40.116153    EMS -75.343513   \n",
       "4  40.251492    EMS -75.603350   \n",
       "5  40.253473    EMS -75.283245   \n",
       "\n",
       "                                                desc      zip  \\\n",
       "0  REINDEER CT & DEAD END;  NEW HANOVER; Station ...  19525.0   \n",
       "1  BRIAR PATH & WHITEMARSH LN;  HATFIELD TOWNSHIP...  19446.0   \n",
       "3  AIRY ST & SWEDE ST;  NORRISTOWN; Station 308A;...  19401.0   \n",
       "4  CHERRYWOOD CT & DEAD END;  LOWER POTTSGROVE; S...      NaN   \n",
       "5  CANNON AVE & W 9TH ST;  LANSDALE; Station 345;...  19446.0   \n",
       "\n",
       "                     title           timeStamp                twp  \\\n",
       "0   EMS: BACK PAINS/INJURY 2015-12-10 17:10:52        NEW HANOVER   \n",
       "1  EMS: DIABETIC EMERGENCY 2015-12-10 17:29:21  HATFIELD TOWNSHIP   \n",
       "3   EMS: CARDIAC EMERGENCY 2015-12-10 16:47:36         NORRISTOWN   \n",
       "4           EMS: DIZZINESS 2015-12-10 16:56:52   LOWER POTTSGROVE   \n",
       "5         EMS: HEAD INJURY 2015-12-10 15:39:04           LANSDALE   \n",
       "\n",
       "                         addr  e DayOfWeek  \n",
       "0      REINDEER CT & DEAD END  1  Thursday  \n",
       "1  BRIAR PATH & WHITEMARSH LN  1  Thursday  \n",
       "3          AIRY ST & SWEDE ST  1  Thursday  \n",
       "4    CHERRYWOOD CT & DEAD END  1  Thursday  \n",
       "5       CANNON AVE & W 9TH ST  1  Thursday  "
      ]
     },
     "execution_count": 47,
     "metadata": {},
     "output_type": "execute_result"
    }
   ],
   "source": [
    "# Filter for EMS calls\n",
    "ems_calls = df[df[\"Reason\"] == \"EMS\"]\n",
    "ems_calls.head(5)\n"
   ]
  },
  {
   "cell_type": "code",
   "execution_count": 49,
   "id": "2d02952b-b5fd-49db-9606-177f9b8c02a2",
   "metadata": {},
   "outputs": [
    {
     "data": {
      "text/plain": [
       "DayOfWeek\n",
       "Friday       19938\n",
       "Tuesday      19575\n",
       "Wednesday    19422\n",
       "Monday       19389\n",
       "Thursday     19297\n",
       "Saturday     18229\n",
       "Sunday       17384\n",
       "Name: count, dtype: int64"
      ]
     },
     "execution_count": 49,
     "metadata": {},
     "output_type": "execute_result"
    }
   ],
   "source": [
    "# Count EMS calls by day\n",
    "calls_by_day = ems_calls[\"DayOfWeek\"].value_counts()\n",
    "calls_by_day"
   ]
  },
  {
   "cell_type": "code",
   "execution_count": 51,
   "id": "878cb549-3bf3-4809-91b5-edb71eeef81a",
   "metadata": {},
   "outputs": [
    {
     "name": "stdout",
     "output_type": "stream",
     "text": [
      "The day with the maximum EMS calls is: Friday with 19938 calls.\n"
     ]
    }
   ],
   "source": [
    "# Find the day with the most EMS calls\n",
    "max_day = calls_by_day.idxmax()\n",
    "max_calls = calls_by_day.max()\n",
    "\n",
    "# Print results\n",
    "print(f\"The day with the maximum EMS calls is: {max_day} with {max_calls} calls.\")"
   ]
  },
  {
   "cell_type": "code",
   "execution_count": 53,
   "id": "c2f05d10-e5fe-4fc9-945b-81c9a14c21c0",
   "metadata": {},
   "outputs": [
    {
     "data": {
      "image/png": "[encoded data removed]",
      "text/plain": [
       "<Figure size 800x500 with 1 Axes>"
      ]
     },
     "metadata": {},
     "output_type": "display_data"
    }
   ],
   "source": [
    "import matplotlib.pyplot as plt # ploting for the nuber of calls on daily basis\n",
    "\n",
    "# Plot bar chart\n",
    "plt.figure(figsize=(8, 5))\n",
    "plt.bar(calls_by_day.index, calls_by_day.values, color = 'green')\n",
    "\n",
    "# Add labels and title\n",
    "plt.xlabel(\"Days\", fontsize=12)\n",
    "plt.ylabel(\"Number of calls\", fontsize=12)\n",
    "plt.title(\"911 Calls by Day\", fontsize=14)\n",
    "plt.xticks(rotation=0)  # Keep labels horizontal\n",
    "\n",
    "# Show plot\n",
    "plt.show()"
   ]
  },
  {
   "cell_type": "markdown",
   "id": "74a2e0f0-65cd-4c46-b11c-6fc3058da777",
   "metadata": {},
   "source": [
    "### Question:6 Create a countplot of the Day of Week column with the hue based on the Reason column and Question\r",
    "n"
   ]
  },
  {
   "cell_type": "code",
   "execution_count": 56,
   "id": "a40ad76e-140d-49d2-8cd4-a29ec2b23a39",
   "metadata": {},
   "outputs": [
    {
     "data": {
      "image/png": "[encoded data removed]",
      "text/plain": [
       "<Figure size 1000x600 with 1 Axes>"
      ]
     },
     "metadata": {},
     "output_type": "display_data"
    }
   ],
   "source": [
    "import seaborn as sns\n",
    "import matplotlib.pyplot as plt\n",
    "\n",
    "# Set plot style\n",
    "sns.set_style(\"whitegrid\")\n",
    "\n",
    "# Create the countplot\n",
    "plt.figure(figsize=(10, 6))\n",
    "sns.countplot(x=\"DayOfWeek\", hue=\"Reason\", data=df, palette=\"viridis\")\n",
    "\n",
    "# Labels and title\n",
    "plt.xlabel(\"Day of the Week\", fontsize=12)\n",
    "plt.ylabel(\"Number of Calls\", fontsize=12)\n",
    "plt.title(\"911 Calls by Day of the Week (Grouped by Reason)\", fontsize=14)\n",
    "\n",
    "# Show plot\n",
    "plt.show()\n"
   ]
  },
  {
   "cell_type": "markdown",
   "id": "4052185b-901c-43c0-94ab-d6f54052405a",
   "metadata": {},
   "source": [
    "### Answer is : On \"Sunday\" the traffic calls were less"
   ]
  },
  {
   "cell_type": "markdown",
   "id": "9a3142a5-50f7-4130-ae0e-a74af83d94a2",
   "metadata": {},
   "source": [
    "### Create a countplot month-wise -- Question 7: Which month saw the highest calls for fire?\r",
    "?"
   ]
  },
  {
   "cell_type": "code",
   "execution_count": 60,
   "id": "94c35510-71d8-49af-aec1-ce3c754c33eb",
   "metadata": {},
   "outputs": [
    {
     "name": "stdout",
     "output_type": "stream",
     "text": [
      "         lat Reason        lng  \\\n",
      "0  40.297876    EMS -75.581294   \n",
      "1  40.258061    EMS -75.264680   \n",
      "2  40.121182   Fire -75.351975   \n",
      "3  40.116153    EMS -75.343513   \n",
      "4  40.251492    EMS -75.603350   \n",
      "\n",
      "                                                desc      zip  \\\n",
      "0  REINDEER CT & DEAD END;  NEW HANOVER; Station ...  19525.0   \n",
      "1  BRIAR PATH & WHITEMARSH LN;  HATFIELD TOWNSHIP...  19446.0   \n",
      "2  HAWS AVE; NORRISTOWN; 2015-12-10 @ 14:39:21-St...  19401.0   \n",
      "3  AIRY ST & SWEDE ST;  NORRISTOWN; Station 308A;...  19401.0   \n",
      "4  CHERRYWOOD CT & DEAD END;  LOWER POTTSGROVE; S...      NaN   \n",
      "\n",
      "                     title           timeStamp                twp  \\\n",
      "0   EMS: BACK PAINS/INJURY 2015-12-10 17:10:52        NEW HANOVER   \n",
      "1  EMS: DIABETIC EMERGENCY 2015-12-10 17:29:21  HATFIELD TOWNSHIP   \n",
      "2      Fire: GAS-ODOR/LEAK 2015-12-10 14:39:21         NORRISTOWN   \n",
      "3   EMS: CARDIAC EMERGENCY 2015-12-10 16:47:36         NORRISTOWN   \n",
      "4           EMS: DIZZINESS 2015-12-10 16:56:52   LOWER POTTSGROVE   \n",
      "\n",
      "                         addr  e DayOfWeek     Month  \n",
      "0      REINDEER CT & DEAD END  1  Thursday  December  \n",
      "1  BRIAR PATH & WHITEMARSH LN  1  Thursday  December  \n",
      "2                    HAWS AVE  1  Thursday  December  \n",
      "3          AIRY ST & SWEDE ST  1  Thursday  December  \n",
      "4    CHERRYWOOD CT & DEAD END  1  Thursday  December  \n"
     ]
    }
   ],
   "source": [
    "# Ensure timeStamp is in datetime format\n",
    "df[\"timeStamp\"] = pd.to_datetime(df[\"timeStamp\"])\n",
    "\n",
    "# Extract the month and create a new column\n",
    "df[\"Month\"] = df[\"timeStamp\"].dt.month_name()\n",
    "\n",
    "# Display the first few rows to verify\n",
    "print(df.head())\n"
   ]
  },
  {
   "cell_type": "code",
   "execution_count": 62,
   "id": "450779ac-3989-489a-a5a4-b1b879ec234a",
   "metadata": {},
   "outputs": [
    {
     "data": {
      "text/html": [
       "<div>\n",
       "<style scoped>\n",
       "    .dataframe tbody tr th:only-of-type {\n",
       "        vertical-align: middle;\n",
       "    }\n",
       "\n",
       "    .dataframe tbody tr th {\n",
       "        vertical-align: top;\n",
       "    }\n",
       "\n",
       "    .dataframe thead th {\n",
       "        text-align: right;\n",
       "    }\n",
       "</style>\n",
       "<table border=\"1\" class=\"dataframe\">\n",
       "  <thead>\n",
       "    <tr style=\"text-align: right;\">\n",
       "      <th></th>\n",
       "      <th>lat</th>\n",
       "      <th>Reason</th>\n",
       "      <th>lng</th>\n",
       "      <th>desc</th>\n",
       "      <th>zip</th>\n",
       "      <th>title</th>\n",
       "      <th>timeStamp</th>\n",
       "      <th>twp</th>\n",
       "      <th>addr</th>\n",
       "      <th>e</th>\n",
       "      <th>DayOfWeek</th>\n",
       "      <th>Month</th>\n",
       "    </tr>\n",
       "  </thead>\n",
       "  <tbody>\n",
       "    <tr>\n",
       "      <th>2</th>\n",
       "      <td>40.121182</td>\n",
       "      <td>Fire</td>\n",
       "      <td>-75.351975</td>\n",
       "      <td>HAWS AVE; NORRISTOWN; 2015-12-10 @ 14:39:21-St...</td>\n",
       "      <td>19401.0</td>\n",
       "      <td>Fire: GAS-ODOR/LEAK</td>\n",
       "      <td>2015-12-10 14:39:21</td>\n",
       "      <td>NORRISTOWN</td>\n",
       "      <td>HAWS AVE</td>\n",
       "      <td>1</td>\n",
       "      <td>Thursday</td>\n",
       "      <td>December</td>\n",
       "    </tr>\n",
       "    <tr>\n",
       "      <th>22</th>\n",
       "      <td>40.199006</td>\n",
       "      <td>Fire</td>\n",
       "      <td>-75.300058</td>\n",
       "      <td>LILAC CT &amp; PRIMROSE DR; UPPER GWYNEDD; 2015-12...</td>\n",
       "      <td>19446.0</td>\n",
       "      <td>Fire: APPLIANCE FIRE</td>\n",
       "      <td>2015-12-10 17:59:24</td>\n",
       "      <td>UPPER GWYNEDD</td>\n",
       "      <td>LILAC CT &amp; PRIMROSE DR</td>\n",
       "      <td>1</td>\n",
       "      <td>Thursday</td>\n",
       "      <td>December</td>\n",
       "    </tr>\n",
       "    <tr>\n",
       "      <th>27</th>\n",
       "      <td>40.028903</td>\n",
       "      <td>Fire</td>\n",
       "      <td>-75.351822</td>\n",
       "      <td>EDENTON PL &amp; DURHAM DR; DELAWARE COUNTY; 2015-...</td>\n",
       "      <td>19085.0</td>\n",
       "      <td>Fire: CARBON MONOXIDE DETECTOR</td>\n",
       "      <td>2015-12-10 18:05:19</td>\n",
       "      <td>DELAWARE COUNTY</td>\n",
       "      <td>EDENTON PL &amp; DURHAM DR</td>\n",
       "      <td>1</td>\n",
       "      <td>Thursday</td>\n",
       "      <td>December</td>\n",
       "    </tr>\n",
       "    <tr>\n",
       "      <th>39</th>\n",
       "      <td>40.104206</td>\n",
       "      <td>Fire</td>\n",
       "      <td>-75.367665</td>\n",
       "      <td>HAMPTON RD &amp; BELMONT RD; UPPER MERION; 2015-12...</td>\n",
       "      <td>19406.0</td>\n",
       "      <td>Fire: GAS-ODOR/LEAK</td>\n",
       "      <td>2015-12-10 18:32:25</td>\n",
       "      <td>UPPER MERION</td>\n",
       "      <td>HAMPTON RD &amp; BELMONT RD</td>\n",
       "      <td>1</td>\n",
       "      <td>Thursday</td>\n",
       "      <td>December</td>\n",
       "    </tr>\n",
       "    <tr>\n",
       "      <th>45</th>\n",
       "      <td>40.224923</td>\n",
       "      <td>Fire</td>\n",
       "      <td>-75.528045</td>\n",
       "      <td>LINFIELD TRAPPE RD; LIMERICK; 2015-12-10 @ 18:...</td>\n",
       "      <td>19468.0</td>\n",
       "      <td>Fire: VEHICLE ACCIDENT</td>\n",
       "      <td>2015-12-10 18:50:23</td>\n",
       "      <td>LIMERICK</td>\n",
       "      <td>LINFIELD TRAPPE RD</td>\n",
       "      <td>1</td>\n",
       "      <td>Thursday</td>\n",
       "      <td>December</td>\n",
       "    </tr>\n",
       "  </tbody>\n",
       "</table>\n",
       "</div>"
      ],
      "text/plain": [
       "          lat Reason        lng  \\\n",
       "2   40.121182   Fire -75.351975   \n",
       "22  40.199006   Fire -75.300058   \n",
       "27  40.028903   Fire -75.351822   \n",
       "39  40.104206   Fire -75.367665   \n",
       "45  40.224923   Fire -75.528045   \n",
       "\n",
       "                                                 desc      zip  \\\n",
       "2   HAWS AVE; NORRISTOWN; 2015-12-10 @ 14:39:21-St...  19401.0   \n",
       "22  LILAC CT & PRIMROSE DR; UPPER GWYNEDD; 2015-12...  19446.0   \n",
       "27  EDENTON PL & DURHAM DR; DELAWARE COUNTY; 2015-...  19085.0   \n",
       "39  HAMPTON RD & BELMONT RD; UPPER MERION; 2015-12...  19406.0   \n",
       "45  LINFIELD TRAPPE RD; LIMERICK; 2015-12-10 @ 18:...  19468.0   \n",
       "\n",
       "                             title           timeStamp              twp  \\\n",
       "2              Fire: GAS-ODOR/LEAK 2015-12-10 14:39:21       NORRISTOWN   \n",
       "22            Fire: APPLIANCE FIRE 2015-12-10 17:59:24    UPPER GWYNEDD   \n",
       "27  Fire: CARBON MONOXIDE DETECTOR 2015-12-10 18:05:19  DELAWARE COUNTY   \n",
       "39             Fire: GAS-ODOR/LEAK 2015-12-10 18:32:25     UPPER MERION   \n",
       "45          Fire: VEHICLE ACCIDENT 2015-12-10 18:50:23         LIMERICK   \n",
       "\n",
       "                       addr  e DayOfWeek     Month  \n",
       "2                  HAWS AVE  1  Thursday  December  \n",
       "22   LILAC CT & PRIMROSE DR  1  Thursday  December  \n",
       "27   EDENTON PL & DURHAM DR  1  Thursday  December  \n",
       "39  HAMPTON RD & BELMONT RD  1  Thursday  December  \n",
       "45       LINFIELD TRAPPE RD  1  Thursday  December  "
      ]
     },
     "execution_count": 62,
     "metadata": {},
     "output_type": "execute_result"
    }
   ],
   "source": [
    "# Filter the dataset for 'Fire' calls\n",
    "fire_calls = df[df[\"Reason\"] == \"Fire\"]\n",
    "fire_calls.head()"
   ]
  },
  {
   "cell_type": "code",
   "execution_count": 64,
   "id": "3a05e61a-b703-46eb-8cd0-fa919028e750",
   "metadata": {},
   "outputs": [
    {
     "data": {
      "image/png": "[encoded data removed]",
      "text/plain": [
       "<Figure size 1000x600 with 1 Axes>"
      ]
     },
     "metadata": {},
     "output_type": "display_data"
    }
   ],
   "source": [
    "# Create the countplot\n",
    "plt.figure(figsize=(10, 6))\n",
    "sns.countplot(x= \"Month\", hue=\"Month\", legend = \"auto\", data=fire_calls, palette=\"inferno\")\n",
    "\n",
    "# Labels and title\n",
    "plt.xlabel(\"Month\", fontsize=12)\n",
    "plt.ylabel(\"Number of Fire Calls\", fontsize=12)\n",
    "plt.title(\"Fire Calls by Month\", fontsize=14)\n",
    "\n",
    "# Show the plot\n",
    "plt.xticks(rotation=45)  # Rotate labels for better readability\n",
    "plt.show()"
   ]
  },
  {
   "cell_type": "code",
   "execution_count": 65,
   "id": "dbf97461-35ec-40e3-a16d-b20801e722a0",
   "metadata": {},
   "outputs": [
    {
     "name": "stdout",
     "output_type": "stream",
     "text": [
      "The month with the highest Fire calls is June with 3773 calls.\n"
     ]
    }
   ],
   "source": [
    "# Count Fire calls by month (using the filtered 'fire_calls' DataFrame)\n",
    "fire_calls_by_month = fire_calls[\"Month\"].value_counts()\n",
    "\n",
    "# Find the month with the highest Fire calls\n",
    "max_fire_month = fire_calls_by_month.idxmax()\n",
    "max_fire_calls = fire_calls_by_month.max()\n",
    "\n",
    "# Print the result\n",
    "print(f\"The month with the highest Fire calls is {max_fire_month} with {max_fire_calls} calls.\")\n"
   ]
  },
  {
   "cell_type": "markdown",
   "id": "2db51c7b-1cc1-446d-84b0-746a55aa2565",
   "metadata": {},
   "source": [
    "### Answer is :  the month of june has the max fire calls, but we can see the name of the months comming in jummbled way in the seaborn ploting, like not in cronical order. Lets fix it."
   ]
  },
  {
   "cell_type": "code",
   "execution_count": 69,
   "id": "f9d8311c-b8f4-48b6-94bb-733fe310ae4d",
   "metadata": {},
   "outputs": [
    {
     "data": {
      "image/png": "[encoded data removed]",
      "text/plain": [
       "<Figure size 1000x600 with 1 Axes>"
      ]
     },
     "metadata": {},
     "output_type": "display_data"
    }
   ],
   "source": [
    "# Create the countplot with the cronical order of the months\n",
    "\n",
    "plt.figure(figsize=(10, 6))\n",
    "sns.countplot(x= \"Month\", hue=\"Month\", legend = \"auto\", data=fire_calls, palette=\"crest\", order=[\n",
    "    \"January\", \"February\", \"March\", \"April\", \"May\", \"June\", \n",
    "    \"July\", \"August\", \"September\", \"October\", \"November\", \"December\"\n",
    "])\n",
    "\n",
    "# Labels and title\n",
    "\n",
    "plt.xlabel(\"Month\", fontsize=12)\n",
    "plt.ylabel(\"Number of Fire Calls\", fontsize=12)\n",
    "plt.title(\"Fire Calls by Month\", fontsize=14)\n",
    "\n",
    "# Show the plot\n",
    "\n",
    "plt.xticks(rotation=45)  # Rotate labels for better readability\n",
    "plt.show()"
   ]
  },
  {
   "cell_type": "markdown",
   "id": "b5702ecc-a915-45e8-be83-2206b8f90dfe",
   "metadata": {},
   "source": [
    "### Now we can see the above problam is fixed"
   ]
  },
  {
   "cell_type": "markdown",
   "id": "89cf9e34-be4a-4ead-8625-03010b8f927e",
   "metadata": {},
   "source": [
    "### Create Web Map for Traffic Calls and Question 8: Why do some areas \n",
    "seem to have lower or almost zero traffic calls? Hint: Zoom the map"
   ]
  },
  {
   "cell_type": "code",
   "execution_count": 73,
   "id": "c37c6c2d-1566-418c-ba79-c4c63e60cf8d",
   "metadata": {},
   "outputs": [
    {
     "data": {
      "text/html": [
       "<div>\n",
       "<style scoped>\n",
       "    .dataframe tbody tr th:only-of-type {\n",
       "        vertical-align: middle;\n",
       "    }\n",
       "\n",
       "    .dataframe tbody tr th {\n",
       "        vertical-align: top;\n",
       "    }\n",
       "\n",
       "    .dataframe thead th {\n",
       "        text-align: right;\n",
       "    }\n",
       "</style>\n",
       "<table border=\"1\" class=\"dataframe\">\n",
       "  <thead>\n",
       "    <tr style=\"text-align: right;\">\n",
       "      <th></th>\n",
       "      <th>lat</th>\n",
       "      <th>Reason</th>\n",
       "      <th>lng</th>\n",
       "      <th>desc</th>\n",
       "      <th>zip</th>\n",
       "      <th>title</th>\n",
       "      <th>timeStamp</th>\n",
       "      <th>twp</th>\n",
       "      <th>addr</th>\n",
       "      <th>e</th>\n",
       "      <th>DayOfWeek</th>\n",
       "      <th>Month</th>\n",
       "    </tr>\n",
       "  </thead>\n",
       "  <tbody>\n",
       "    <tr>\n",
       "      <th>9</th>\n",
       "      <td>40.102398</td>\n",
       "      <td>Traffic</td>\n",
       "      <td>-75.291458</td>\n",
       "      <td>BLUEROUTE  &amp; RAMP I476 NB TO CHEMICAL RD; PLYM...</td>\n",
       "      <td>19462.0</td>\n",
       "      <td>Traffic: VEHICLE ACCIDENT -</td>\n",
       "      <td>2015-12-10 17:35:41</td>\n",
       "      <td>PLYMOUTH</td>\n",
       "      <td>BLUEROUTE  &amp; RAMP I476 NB TO CHEMICAL RD</td>\n",
       "      <td>1</td>\n",
       "      <td>Thursday</td>\n",
       "      <td>December</td>\n",
       "    </tr>\n",
       "    <tr>\n",
       "      <th>10</th>\n",
       "      <td>40.231990</td>\n",
       "      <td>Traffic</td>\n",
       "      <td>-75.251891</td>\n",
       "      <td>RT202 PKWY &amp; KNAPP RD; MONTGOMERY; 2015-12-10 ...</td>\n",
       "      <td>NaN</td>\n",
       "      <td>Traffic: VEHICLE ACCIDENT -</td>\n",
       "      <td>2015-12-10 17:33:50</td>\n",
       "      <td>MONTGOMERY</td>\n",
       "      <td>RT202 PKWY &amp; KNAPP RD</td>\n",
       "      <td>1</td>\n",
       "      <td>Thursday</td>\n",
       "      <td>December</td>\n",
       "    </tr>\n",
       "    <tr>\n",
       "      <th>11</th>\n",
       "      <td>40.084161</td>\n",
       "      <td>Traffic</td>\n",
       "      <td>-75.308386</td>\n",
       "      <td>BROOK RD &amp; COLWELL LN; PLYMOUTH; 2015-12-10 @ ...</td>\n",
       "      <td>19428.0</td>\n",
       "      <td>Traffic: VEHICLE ACCIDENT -</td>\n",
       "      <td>2015-12-10 16:32:10</td>\n",
       "      <td>PLYMOUTH</td>\n",
       "      <td>BROOK RD &amp; COLWELL LN</td>\n",
       "      <td>1</td>\n",
       "      <td>Thursday</td>\n",
       "      <td>December</td>\n",
       "    </tr>\n",
       "    <tr>\n",
       "      <th>12</th>\n",
       "      <td>40.174131</td>\n",
       "      <td>Traffic</td>\n",
       "      <td>-75.098491</td>\n",
       "      <td>BYBERRY AVE &amp; S WARMINSTER RD; UPPER MORELAND;...</td>\n",
       "      <td>19040.0</td>\n",
       "      <td>Traffic: VEHICLE ACCIDENT -</td>\n",
       "      <td>2015-12-10 17:15:49</td>\n",
       "      <td>UPPER MORELAND</td>\n",
       "      <td>BYBERRY AVE &amp; S WARMINSTER RD</td>\n",
       "      <td>1</td>\n",
       "      <td>Thursday</td>\n",
       "      <td>December</td>\n",
       "    </tr>\n",
       "    <tr>\n",
       "      <th>13</th>\n",
       "      <td>40.062974</td>\n",
       "      <td>Traffic</td>\n",
       "      <td>-75.135914</td>\n",
       "      <td>OLD YORK RD &amp; VALLEY RD; CHELTENHAM; 2015-12-1...</td>\n",
       "      <td>19027.0</td>\n",
       "      <td>Traffic: VEHICLE ACCIDENT -</td>\n",
       "      <td>2015-12-10 17:12:47</td>\n",
       "      <td>CHELTENHAM</td>\n",
       "      <td>OLD YORK RD &amp; VALLEY RD</td>\n",
       "      <td>1</td>\n",
       "      <td>Thursday</td>\n",
       "      <td>December</td>\n",
       "    </tr>\n",
       "  </tbody>\n",
       "</table>\n",
       "</div>"
      ],
      "text/plain": [
       "          lat   Reason        lng  \\\n",
       "9   40.102398  Traffic -75.291458   \n",
       "10  40.231990  Traffic -75.251891   \n",
       "11  40.084161  Traffic -75.308386   \n",
       "12  40.174131  Traffic -75.098491   \n",
       "13  40.062974  Traffic -75.135914   \n",
       "\n",
       "                                                 desc      zip  \\\n",
       "9   BLUEROUTE  & RAMP I476 NB TO CHEMICAL RD; PLYM...  19462.0   \n",
       "10  RT202 PKWY & KNAPP RD; MONTGOMERY; 2015-12-10 ...      NaN   \n",
       "11  BROOK RD & COLWELL LN; PLYMOUTH; 2015-12-10 @ ...  19428.0   \n",
       "12  BYBERRY AVE & S WARMINSTER RD; UPPER MORELAND;...  19040.0   \n",
       "13  OLD YORK RD & VALLEY RD; CHELTENHAM; 2015-12-1...  19027.0   \n",
       "\n",
       "                          title           timeStamp             twp  \\\n",
       "9   Traffic: VEHICLE ACCIDENT - 2015-12-10 17:35:41        PLYMOUTH   \n",
       "10  Traffic: VEHICLE ACCIDENT - 2015-12-10 17:33:50      MONTGOMERY   \n",
       "11  Traffic: VEHICLE ACCIDENT - 2015-12-10 16:32:10        PLYMOUTH   \n",
       "12  Traffic: VEHICLE ACCIDENT - 2015-12-10 17:15:49  UPPER MORELAND   \n",
       "13  Traffic: VEHICLE ACCIDENT - 2015-12-10 17:12:47      CHELTENHAM   \n",
       "\n",
       "                                        addr  e DayOfWeek     Month  \n",
       "9   BLUEROUTE  & RAMP I476 NB TO CHEMICAL RD  1  Thursday  December  \n",
       "10                     RT202 PKWY & KNAPP RD  1  Thursday  December  \n",
       "11                     BROOK RD & COLWELL LN  1  Thursday  December  \n",
       "12             BYBERRY AVE & S WARMINSTER RD  1  Thursday  December  \n",
       "13                   OLD YORK RD & VALLEY RD  1  Thursday  December  "
      ]
     },
     "execution_count": 73,
     "metadata": {},
     "output_type": "execute_result"
    }
   ],
   "source": [
    "import folium\n",
    "\n",
    "# Filter for Traffic calls\n",
    "traffic_calls = df[df[\"Reason\"] == \"Traffic\"]\n",
    "traffic_calls.head()"
   ]
  },
  {
   "cell_type": "code",
   "execution_count": 75,
   "id": "c27f388c-b161-44f3-9c19-ca8a4d78614e",
   "metadata": {},
   "outputs": [
    {
     "name": "stdout",
     "output_type": "stream",
     "text": [
      "Web map created! Open 'Traffic_Calls_Map.html' to view it.\n"
     ]
    }
   ],
   "source": [
    "# Create a Folium map centered around the median location\n",
    "map_center = [traffic_calls[\"lat\"].median(), traffic_calls[\"lng\"].median()]\n",
    "traffic_map = folium.Map(location=map_center, zoom_start=10)\n",
    "\n",
    "# Add traffic call locations as markers\n",
    "for _, row in traffic_calls.iterrows():\n",
    "    folium.CircleMarker(\n",
    "        location=[row[\"lat\"], row[\"lng\"]],\n",
    "        radius=3,  # Adjust size of the marker\n",
    "        color=\"red\",\n",
    "        fill=True,\n",
    "        fill_color=\"red\",\n",
    "        fill_opacity=0.6,\n",
    "    ).add_to(traffic_map)\n",
    "\n",
    "# Save the map as an HTML file\n",
    "traffic_map.save(\"Traffic_Calls_Map.html\")\n",
    "\n",
    "print(\"Web map created! Open 'Traffic_Calls_Map.html' to view it.\")"
   ]
  },
  {
   "cell_type": "markdown",
   "id": "89ecee67-aaf0-40b6-8976-09f6266e678f",
   "metadata": {},
   "source": [
    "### In the above map is very difficult to analyse because of the markers are overlaping with each other. So that i have cluster the traffic map and made it easy to visulize."
   ]
  },
  {
   "cell_type": "code",
   "execution_count": 77,
   "id": "48ff7d2a-a20a-4029-9213-c12e5f677ce5",
   "metadata": {},
   "outputs": [
    {
     "name": "stdout",
     "output_type": "stream",
     "text": [
      "Web map with Marker Clusters created! Open 'Traffic_Calls_Map_marker_cluster.html' to view it.\n"
     ]
    }
   ],
   "source": [
    "from folium.plugins import MarkerCluster\n",
    "\n",
    "# Filter for Traffic calls\n",
    "traffic_calls = df[df[\"Reason\"] == \"Traffic\"]\n",
    "\n",
    "# Create a Folium map centered around the median location\n",
    "map_center = [traffic_calls[\"lat\"].median(), traffic_calls[\"lng\"].median()]\n",
    "traffic_map = folium.Map(location=map_center, zoom_start=10)\n",
    "\n",
    "# Create a MarkerCluster layer\n",
    "marker_cluster = MarkerCluster().add_to(traffic_map)\n",
    "\n",
    "# Add traffic call locations as markers within the cluster\n",
    "for _, row in traffic_calls.iterrows():\n",
    "    folium.Marker(\n",
    "        location=[row[\"lat\"], row[\"lng\"]],\n",
    "        popup=f\"Traffic Call at {row['lat']}, {row['lng']}\",\n",
    "        icon=folium.Icon(color=\"red\", icon=\"car\", prefix=\"fa\"),  # Custom icon\n",
    "    ).add_to(marker_cluster)\n",
    "\n",
    "# Save the map as an HTML file\n",
    "traffic_map.save(\"Traffic_Calls_Map_marker_cluster.html\")\n",
    "\n",
    "print(\"Web map with Marker Clusters created! Open 'Traffic_Calls_Map_marker_cluster.html' to view it.\")"
   ]
  },
  {
   "cell_type": "code",
   "execution_count": null,
   "id": "2afc09e5-6b8a-46a2-a3c2-370da845e175",
   "metadata": {},
   "outputs": [],
   "source": []
  }
 ],
 "metadata": {
  "kernelspec": {
   "display_name": "Python 3 (ipykernel)",
   "language": "python",
   "name": "python3"
  },
  "language_info": {
   "codemirror_mode": {
    "name": "ipython",
    "version": 3
   },
   "file_extension": ".py",
   "mimetype": "text/x-python",
   "name": "python",
   "nbconvert_exporter": "python",
   "pygments_lexer": "ipython3",
   "version": "3.12.4"
  }
 },
 "nbformat": 4,
 "nbformat_minor": 5
}
